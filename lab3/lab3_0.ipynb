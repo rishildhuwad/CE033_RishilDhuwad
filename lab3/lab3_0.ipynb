{
  "nbformat": 4,
  "nbformat_minor": 0,
  "metadata": {
    "colab": {
      "name": "lab3_0.ipynb",
      "provenance": [],
      "collapsed_sections": []
    },
    "kernelspec": {
      "name": "python3",
      "display_name": "Python 3"
    },
    "language_info": {
      "name": "python"
    }
  },
  "cells": [
    {
      "cell_type": "markdown",
      "metadata": {
        "id": "bkKt7J00Z7W8"
      },
      "source": [
        "Step 1: Import necessary libraries."
      ]
    },
    {
      "cell_type": "code",
      "metadata": {
        "id": "9ky1rrtBZRUM"
      },
      "source": [
        "#importing libraries\n",
        "import numpy as np \n",
        "import pandas as pd\n",
        "from sklearn import preprocessing\n",
        "from sklearn.naive_bayes import GaussianNB, MultinomialNB"
      ],
      "execution_count": 4,
      "outputs": []
    },
    {
      "cell_type": "markdown",
      "metadata": {
        "id": "3zVtHVp_Z_6F"
      },
      "source": [
        "Step 2: Prepare dataset."
      ]
    },
    {
      "cell_type": "code",
      "metadata": {
        "colab": {
          "base_uri": "https://localhost:8080/"
        },
        "id": "6LuNUGN7ZqXW",
        "outputId": "bbaef7e2-579c-408f-9f40-e57182a990ef"
      },
      "source": [
        "dataset = pd.read_csv('/content/drive/MyDrive/ML/lab3/Dataset1.csv')\n",
        "print(\"Data :- \\n\",dataset)\n",
        "print(\"Data Statistics :- \\n\",dataset.describe())"
      ],
      "execution_count": 6,
      "outputs": [
        {
          "output_type": "stream",
          "name": "stdout",
          "text": [
            "Data :- \n",
            "    Outlook Temp Humidity Wind Play\n",
            "0        R    H   Normal    F    N\n",
            "1        R    H     High    T    N\n",
            "2        O    H   Normal    F    Y\n",
            "3        S    M   Normal    F    Y\n",
            "4        S    C   Normal    F    Y\n",
            "5        S    C      Low    T    N\n",
            "6        O    C   Normal    T    Y\n",
            "7        R    M   Normal    F    N\n",
            "8        R    C      Low    F    Y\n",
            "9        S    M     High    F    Y\n",
            "10       R    M     High    T    Y\n",
            "11       O    M      Low    T    Y\n",
            "12       O    H   Normal    F    Y\n",
            "13       S    M   Normal    T    N\n",
            "Data Statistics :- \n",
            "        Outlook Temp Humidity Wind Play\n",
            "count       14   14       14   14   14\n",
            "unique       3    3        3    2    2\n",
            "top          R    M   Normal    F    Y\n",
            "freq         5    6        8    8    9\n"
          ]
        }
      ]
    },
    {
      "cell_type": "markdown",
      "metadata": {
        "id": "OklSHFuhaCzM"
      },
      "source": [
        "Step 3: Digitize the data set using encoding"
      ]
    },
    {
      "cell_type": "code",
      "metadata": {
        "colab": {
          "base_uri": "https://localhost:8080/"
        },
        "id": "STozm5tnaE9a",
        "outputId": "c5532c59-7d20-4925-bbfd-a7b9e253aa00"
      },
      "source": [
        "#creating labelEncoder\n",
        "le = preprocessing.LabelEncoder()\n",
        "\n",
        "# Converting string labels into numbers.\n",
        "outlook_encoded=le.fit_transform(dataset['Outlook'])\n",
        "print(\"Outlook:\" ,outlook_encoded)\n",
        "temp_encoded=le.fit_transform(dataset['Temp'])\n",
        "print(\"Temp:\" ,temp_encoded)\n",
        "humidity_encoded=le.fit_transform(dataset['Humidity'])\n",
        "print(\"Humidity:\" ,humidity_encoded)\n",
        "wind_encoded=le.fit_transform(dataset['Wind'])\n",
        "print(\"Wind:\" ,wind_encoded)\n",
        "play_encoded=le.fit_transform(dataset['Play'])\n",
        "print(\"Play:\" ,play_encoded)\n",
        "\n",
        "\n"
      ],
      "execution_count": 7,
      "outputs": [
        {
          "output_type": "stream",
          "name": "stdout",
          "text": [
            "Outlook: [1 1 0 2 2 2 0 1 1 2 1 0 0 2]\n",
            "Temp: [1 1 1 2 0 0 0 2 0 2 2 2 1 2]\n",
            "Humidity: [2 0 2 2 2 1 2 2 1 0 0 1 2 2]\n",
            "Wind: [0 1 0 0 0 1 1 0 0 0 1 1 0 1]\n",
            "Play: [0 0 1 1 1 0 1 0 1 1 1 1 1 0]\n"
          ]
        }
      ]
    },
    {
      "cell_type": "markdown",
      "metadata": {
        "id": "48fLXOXQbAbz"
      },
      "source": [
        "Step 4: Merge different features to prepare dataset"
      ]
    },
    {
      "cell_type": "code",
      "metadata": {
        "colab": {
          "base_uri": "https://localhost:8080/"
        },
        "id": "O2DSbiFxbVri",
        "outputId": "ae71a0b0-04d9-4032-fd0f-3ca810dd3dd2"
      },
      "source": [
        "#Combinig Outlook,Temp,Humidity and Wind into single listof tuples\n",
        "features=tuple(zip(outlook_encoded,temp_encoded,humidity_encoded,wind_encoded))\n",
        "print(\"Features:\",features)"
      ],
      "execution_count": 8,
      "outputs": [
        {
          "output_type": "stream",
          "name": "stdout",
          "text": [
            "Features: ((1, 1, 2, 0), (1, 1, 0, 1), (0, 1, 2, 0), (2, 2, 2, 0), (2, 0, 2, 0), (2, 0, 1, 1), (0, 0, 2, 1), (1, 2, 2, 0), (1, 0, 1, 0), (2, 2, 0, 0), (1, 2, 0, 1), (0, 2, 1, 1), (0, 1, 2, 0), (2, 2, 2, 1))\n"
          ]
        }
      ]
    },
    {
      "cell_type": "markdown",
      "metadata": {
        "id": "VMOYN3wxboSS"
      },
      "source": [
        "Step 5: Train ’Naive Bayes Classifier’"
      ]
    },
    {
      "cell_type": "code",
      "metadata": {
        "colab": {
          "base_uri": "https://localhost:8080/"
        },
        "id": "UR_DtRuxbruC",
        "outputId": "14492ea6-7c0b-4385-9e9e-a4c020c58c9b"
      },
      "source": [
        "#Create a Classifier\n",
        "model=MultinomialNB()\n",
        "# Train the model using the training sets\n",
        "model.fit(features,play_encoded)"
      ],
      "execution_count": 9,
      "outputs": [
        {
          "output_type": "execute_result",
          "data": {
            "text/plain": [
              "MultinomialNB(alpha=1.0, class_prior=None, fit_prior=True)"
            ]
          },
          "metadata": {},
          "execution_count": 9
        }
      ]
    },
    {
      "cell_type": "markdown",
      "metadata": {
        "id": "x9KUpM3Gb1EQ"
      },
      "source": [
        "Step 6: Predict Output for new data"
      ]
    },
    {
      "cell_type": "code",
      "metadata": {
        "colab": {
          "base_uri": "https://localhost:8080/"
        },
        "id": "sedmajjkb2EW",
        "outputId": "331554f7-911b-4766-d641-d9d22c22a904"
      },
      "source": [
        "#Predict Output\n",
        "predicted= model.predict([[1,1,2,0]]) # 1:Overcast, 2:Mild\n",
        "print(\"Predicted Value:\", predicted)"
      ],
      "execution_count": 10,
      "outputs": [
        {
          "output_type": "stream",
          "name": "stdout",
          "text": [
            "Predicted Value: [1]\n"
          ]
        }
      ]
    },
    {
      "cell_type": "code",
      "metadata": {
        "colab": {
          "base_uri": "https://localhost:8080/"
        },
        "id": "4RA_pVL2cAB8",
        "outputId": "20bd37e8-4854-451d-8202-aaac981b7265"
      },
      "source": [
        "#Predict Output\n",
        "predicted= model.predict([[1,1,0,1]]) # 0:Overcast, 2:Mild\n",
        "print(\"Predicted Value:\", predicted)"
      ],
      "execution_count": 11,
      "outputs": [
        {
          "output_type": "stream",
          "name": "stdout",
          "text": [
            "Predicted Value: [1]\n"
          ]
        }
      ]
    },
    {
      "cell_type": "code",
      "metadata": {
        "colab": {
          "base_uri": "https://localhost:8080/"
        },
        "id": "9vLExs-ZcOhT",
        "outputId": "e8526cd3-56ef-466a-c436-c7166ad3e1d5"
      },
      "source": [
        "#Predict Output\n",
        "predicted= model.predict([[0,1,2,0]]) # 0:Overcast, 2:Mild\n",
        "print(\"Predicted Value:\", predicted)"
      ],
      "execution_count": 12,
      "outputs": [
        {
          "output_type": "stream",
          "name": "stdout",
          "text": [
            "Predicted Value: [1]\n"
          ]
        }
      ]
    },
    {
      "cell_type": "code",
      "metadata": {
        "colab": {
          "base_uri": "https://localhost:8080/"
        },
        "id": "sPMaWWCYVUvo",
        "outputId": "6b28611f-f3f9-49f6-8879-27f6c69245f5"
      },
      "source": [
        "from google.colab import drive\n",
        "drive.mount('/content/drive')"
      ],
      "execution_count": 3,
      "outputs": [
        {
          "output_type": "stream",
          "name": "stdout",
          "text": [
            "Drive already mounted at /content/drive; to attempt to forcibly remount, call drive.mount(\"/content/drive\", force_remount=True).\n"
          ]
        }
      ]
    }
  ]
}